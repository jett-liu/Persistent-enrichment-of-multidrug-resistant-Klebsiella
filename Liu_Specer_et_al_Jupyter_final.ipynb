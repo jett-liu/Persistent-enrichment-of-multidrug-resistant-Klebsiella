{
 "cells": [
  {
   "cell_type": "markdown",
   "metadata": {},
   "source": [
    "# Persistent enrichment of multidrug resistant Klebsiella in oral and nasal communities during long-term starvation"
   ]
  },
  {
   "cell_type": "markdown",
   "metadata": {},
   "source": [
    "Jupyter Notebook containing Python code used for analyses featured in \"Persistent enrichment of multidrug resistant Klebsiella in oral and nasal communities during long-term starvation\" (2023). \n",
    "  \n",
    "Should be run after R code."
   ]
  },
  {
   "cell_type": "code",
   "execution_count": null,
   "metadata": {},
   "outputs": [],
   "source": [
    "import pandas as pd\n",
    "import numpy as np\n",
    "import seaborn as sns\n",
    "import matplotlib.pyplot as plt\n",
    "from collections import defaultdict\n",
    "import urllib.request\n",
    "import os\n",
    "import glob\n",
    "from scipy.stats import ttest_ind\n",
    "from statannotations.Annotator import Annotator\n",
    "from statistics import mean\n",
    "import matplotlib as mpl\n"
   ]
  },
  {
   "cell_type": "code",
   "execution_count": null,
   "metadata": {},
   "outputs": [],
   "source": [
    "#make figure text editable\n",
    "new_rc_params = {'text.usetex': False,\n",
    "\"svg.fonttype\": 'none'\n",
    "}\n",
    "plt.rcParams.update(new_rc_params)"
   ]
  },
  {
   "cell_type": "code",
   "execution_count": null,
   "metadata": {},
   "outputs": [],
   "source": [
    "#set working directory (this should be the same output directory as the one used for the R code)\n",
    "working_dir = \"/home/ubuntu/data/Projects/Nell_Saliva_Nares/publication_run/\"\n",
    "\n",
    "#set output directory (this should be the same output directory as the one used for the R code)\n",
    "output_dir = \"/home/ubuntu/data/Projects/Nell_Saliva_Nares/publication_run/output/\""
   ]
  },
  {
   "cell_type": "markdown",
   "metadata": {},
   "source": [
    "### compare genome size to starvation enrichment using eHOMD genomes"
   ]
  },
  {
   "cell_type": "code",
   "execution_count": null,
   "metadata": {},
   "outputs": [],
   "source": [
    "SEQID_info_df = pd.read_csv(f\"{working_dir}required_files/SEQID_info_parsed_one_representative_per_hmt.csv\")"
   ]
  },
  {
   "attachments": {},
   "cell_type": "markdown",
   "metadata": {},
   "source": [
    "## Species level abundance bar plots"
   ]
  },
  {
   "cell_type": "code",
   "execution_count": null,
   "metadata": {},
   "outputs": [],
   "source": [
    "#format species_level_abundance\n",
    "species_level_abund_df = pd.read_table(f\"{output_dir}relative_abundance.species.tsv\", sep=\"\\t\")\n"
   ]
  },
  {
   "cell_type": "code",
   "execution_count": null,
   "metadata": {},
   "outputs": [],
   "source": [
    "species_level_abund_df = species_level_abund_df.set_index('genus_species_hmt') * 100\n",
    "species_level_abund_df = species_level_abund_df.T.reset_index().rename(columns={'index': \"sample_name\"})\n",
    "\n",
    "species_list = list(species_level_abund_df.drop(columns=\"sample_name\").columns)\n",
    "\n",
    "sample_metadata_df = pd.read_csv(f\"{working_dir}required_files/sample_group_metadata.csv\")\n",
    "\n",
    "species_level_abund_df = sample_metadata_df.merge(species_level_abund_df, on=\"sample_name\", how=\"left\")"
   ]
  },
  {
   "attachments": {},
   "cell_type": "markdown",
   "metadata": {},
   "source": [
    "### individual bar plots"
   ]
  },
  {
   "attachments": {},
   "cell_type": "markdown",
   "metadata": {},
   "source": [
    "nares raw vs post"
   ]
  },
  {
   "cell_type": "code",
   "execution_count": null,
   "metadata": {},
   "outputs": [],
   "source": [
    "#nares raw vs nares post\n",
    "species_level_abund_df_nares_raw_nares_post = species_level_abund_df[species_level_abund_df.Saliva_nares == \"Nares\"][species_level_abund_df.condition.isin([\"Raw_sample\", \"shi_media_Post_starvation\"])]"
   ]
  },
  {
   "attachments": {},
   "cell_type": "markdown",
   "metadata": {},
   "source": [
    "### longform delta strip plots"
   ]
  },
  {
   "cell_type": "code",
   "execution_count": null,
   "metadata": {},
   "outputs": [],
   "source": [
    "species_level_abund_df"
   ]
  },
  {
   "cell_type": "code",
   "execution_count": null,
   "metadata": {},
   "outputs": [],
   "source": [
    "# make master df \n",
    "def make_species_raw_post_df(species_level_abundance_df):\n",
    "    species_raw_post_abun_delta_dict = defaultdict(list)\n",
    "\n",
    "    #species_occurance_dict\n",
    "    species2occurance = {}\n",
    "\n",
    "    #create df\n",
    "    for species in species_list:\n",
    "\n",
    "        occurance_count = 0\n",
    "        #grab the change in relative abundance from raw to post, discard samples that do not have the genera in the raw sample or the post_starve sample\n",
    "\n",
    "        for sample_num in species_level_abundance_df.Sample_num.unique():\n",
    "\n",
    "            #raw sample abundance\n",
    "            raw_num = species_level_abundance_df[species_level_abundance_df.condition == \"Raw_sample\"][species_level_abundance_df.Sample_num == sample_num][species].reset_index(drop=True)[0]\n",
    "            #post_starve abundance\n",
    "            post_starve_num = species_level_abundance_df[species_level_abundance_df.condition == \"shi_media_Post_starvation\"][species_level_abundance_df.Sample_num == sample_num][species].reset_index(drop=True)[0]\n",
    "            #difference\n",
    "            delta = post_starve_num - raw_num\n",
    "\n",
    "            #remove species that did not show up in either raw or post\n",
    "            if ((raw_num == 0) and (post_starve_num == 0)):\n",
    "                pass\n",
    "            #do not consider the unclassifed asvs:\n",
    "            elif species == \"unclassified\":\n",
    "                pass\n",
    "            else:\n",
    "                #DF Information\n",
    "                species_raw_post_abun_delta_dict[\"sample_num\"].append(int(sample_num))\n",
    "                species_raw_post_abun_delta_dict[\"species\"].append(species)\n",
    "                species_raw_post_abun_delta_dict[\"hmt_num\"].append(int(species.rsplit(\"_\",1)[1]))\n",
    "                species_raw_post_abun_delta_dict[\"post_starve_abundance\"].append(post_starve_num)\n",
    "                species_raw_post_abun_delta_dict[\"raw_abundance\"].append(raw_num)\n",
    "                species_raw_post_abun_delta_dict[\"delta\"].append(delta)\n",
    "\n",
    "                #species occurance\n",
    "                occurance_count += 1\n",
    "        \n",
    "        species2occurance[species] = occurance_count\n",
    "\n",
    "    species_raw_post_abun_delta_df = pd.DataFrame(species_raw_post_abun_delta_dict)\n",
    "    species_raw_post_abun_delta_df[\"occurance\"] = species_raw_post_abun_delta_df.species.map(species2occurance)\n",
    "\n",
    "    #grab mean abundance and mean delta\n",
    "    species_2_mean_abundance = {}\n",
    "    species_2_mean_abundance_raw = {}\n",
    "    species_2_median_abundance = {}\n",
    "    species_2_mean_delta = {}\n",
    "    for species in species_raw_post_abun_delta_df.species.unique():\n",
    "        sub_df = species_raw_post_abun_delta_df[species_raw_post_abun_delta_df.species == species]\n",
    "        species_2_mean_abundance[species] = np.mean(sub_df.post_starve_abundance)\n",
    "        species_2_mean_abundance_raw[species] = np.mean(sub_df.raw_abundance)\n",
    "        species_2_mean_delta[species] = np.mean(sub_df.delta)\n",
    "        species_2_median_abundance[species] = np.median(sub_df.post_starve_abundance)\n",
    "\n",
    "    #map\n",
    "    species_raw_post_abun_delta_df[\"mean_abun_post_starve\"] = species_raw_post_abun_delta_df[\"species\"].map(species_2_mean_abundance)\n",
    "    species_raw_post_abun_delta_df[\"mean_abun_raw\"] = species_raw_post_abun_delta_df[\"species\"].map(species_2_mean_abundance_raw)\n",
    "    species_raw_post_abun_delta_df[\"median_abun_post_starve\"] = species_raw_post_abun_delta_df[\"species\"].map(species_2_median_abundance)\n",
    "    species_raw_post_abun_delta_df[\"mean_delta\"] = species_raw_post_abun_delta_df[\"species\"].map(species_2_mean_delta)\n",
    "\n",
    "    return species_raw_post_abun_delta_df"
   ]
  },
  {
   "attachments": {},
   "cell_type": "markdown",
   "metadata": {},
   "source": [
    "nares raw vs nares post"
   ]
  },
  {
   "cell_type": "code",
   "execution_count": null,
   "metadata": {},
   "outputs": [],
   "source": [
    "species_nares_raw_post_abun_delta_df = make_species_raw_post_df(species_level_abund_df_nares_raw_nares_post)"
   ]
  },
  {
   "cell_type": "code",
   "execution_count": null,
   "metadata": {},
   "outputs": [],
   "source": [
    "#species_abundance across the samples, raw\n",
    "\n",
    "sns.set(rc={'figure.figsize':(8,2)})\n",
    "\n",
    "#open circle markers\n",
    "pnts = np.linspace(0, np.pi * 2, 24)\n",
    "circ = np.c_[np.sin(pnts) / 2, -np.cos(pnts) / 2]\n",
    "vert = np.r_[circ, circ[::-1] * .7]\n",
    "open_circle = mpl.path.Path(vert)\n",
    "\n",
    "sns.set_style(\"ticks\")\n",
    "sns.despine()\n",
    "\n",
    "ax = sns.stripplot(data=species_nares_raw_post_abun_delta_df, y=\"raw_abundance\",marker=open_circle, x=\"sample_num\", color='black', jitter =0, zorder=3)\n",
    "\n",
    "#highlight samples with 50% abun of one species\n",
    "for sample_number in set(species_nares_raw_post_abun_delta_df[species_nares_raw_post_abun_delta_df.raw_abundance >= 50].sample_num):\n",
    "    plt.axvspan(int(sample_number)-1.5, int(sample_number)-0.5, color='#EF9A9A', alpha=0.3, lw=0)\n",
    "\n",
    "#plt.axvspan(-0.5, 0.5, color='#EF9A9A', alpha=0.5)\n",
    "\n",
    "\n",
    "plt.xlabel('')\n",
    "plt.ylabel(\"relative abundance after starvation (%)\")\n",
    "plt.xticks(rotation=90)\n",
    "plt.ylim(0, 104)\n",
    "plt.xlim(-0.5, 30)\n",
    "\n",
    "sns.despine()\n",
    "plt.savefig(f\"{output_dir}nares_raw_sample_num_rel_abun.svg\", bbox_inches='tight')"
   ]
  },
  {
   "cell_type": "code",
   "execution_count": null,
   "metadata": {},
   "outputs": [],
   "source": [
    "#species_abundance across the samples, post starve\n",
    "sns.set(rc={'figure.figsize':(8,2)})\n",
    "\n",
    "#open circle markers\n",
    "pnts = np.linspace(0, np.pi * 2, 24)\n",
    "circ = np.c_[np.sin(pnts) / 2, -np.cos(pnts) / 2]\n",
    "vert = np.r_[circ, circ[::-1] * .7]\n",
    "open_circle = mpl.path.Path(vert)\n",
    "\n",
    "sns.set_style(\"ticks\")\n",
    "sns.despine()\n",
    "\n",
    "ax = sns.stripplot(data=species_nares_raw_post_abun_delta_df, y=\"post_starve_abundance\",marker=open_circle, x=\"sample_num\", color='black', jitter =0, zorder=3)\n",
    "\n",
    "#highlight samples with 50% abun of one species\n",
    "for sample_number in set(species_nares_raw_post_abun_delta_df[species_nares_raw_post_abun_delta_df.post_starve_abundance >= 50].sample_num):\n",
    "    plt.axvspan(int(sample_number)-1.5, int(sample_number)-0.5, color='#EF9A9A', alpha=0.3, lw=0)\n",
    "\n",
    "plt.xlabel('')\n",
    "plt.ylabel(\"relative abundance after starvation (%)\")\n",
    "plt.xticks(rotation=90)\n",
    "plt.ylim(0, 104)\n",
    "plt.xlim(-0.5, 30)\n",
    "\n",
    "sns.despine()\n",
    "plt.savefig(f\"{output_dir}nares_post_sample_num_rel_abun.svg\", bbox_inches='tight')"
   ]
  },
  {
   "cell_type": "code",
   "execution_count": null,
   "metadata": {},
   "outputs": [],
   "source": [
    "nares_species_to_keep = []\n",
    "#grab species with post_starve_abundance > 50\n",
    "for species in species_nares_raw_post_abun_delta_df[species_nares_raw_post_abun_delta_df.post_starve_abundance >= 50].sort_values(by=\"median_abun_post_starve\", ascending=False).species.unique():\n",
    "    nares_species_to_keep.append(species)\n",
    "\n",
    "print(len(nares_species_to_keep))\n",
    "\n",
    "print(nares_species_to_keep)\n",
    "\n",
    "#filter the df\n",
    "species_nares_raw_post_abun_delta_df_filtered = species_nares_raw_post_abun_delta_df[species_nares_raw_post_abun_delta_df.species.isin(nares_species_to_keep)]\n",
    "\n",
    "#sort\n",
    "species_nares_raw_post_abun_delta_df_filtered.species=pd.Categorical(species_nares_raw_post_abun_delta_df_filtered.species,categories=nares_species_to_keep)\n",
    "species_nares_raw_post_abun_delta_df_filtered=species_nares_raw_post_abun_delta_df_filtered.sort_values('species')\n"
   ]
  },
  {
   "cell_type": "code",
   "execution_count": null,
   "metadata": {},
   "outputs": [],
   "source": [
    "#above 5% post starve abundance species\n",
    "sns.set(rc={'figure.figsize':(4,1.5)})\n",
    "\n",
    "#open circle markers\n",
    "pnts = np.linspace(0, np.pi * 2, 24)\n",
    "circ = np.c_[np.sin(pnts) / 2, -np.cos(pnts) / 2]\n",
    "vert = np.r_[circ, circ[::-1] * .7]\n",
    "open_circle = mpl.path.Path(vert)\n",
    "\n",
    "sns.set_style(\"ticks\")\n",
    "sns.despine()\n",
    "\n",
    "ax = sns.stripplot(data=species_nares_raw_post_abun_delta_df_filtered, y=\"post_starve_abundance\",marker=open_circle, x=\"species\", color='black', zorder=3)\n",
    "\n",
    "ax = sns.boxplot(data= species_nares_raw_post_abun_delta_df_filtered, y=\"post_starve_abundance\", x=\"species\",\n",
    "    whiskerprops={'visible': False}, \n",
    "    showfliers=False, \n",
    "    showbox=False,\n",
    "    showcaps=False, \n",
    "    linewidth=0.8,\n",
    "    zorder=2,\n",
    "    medianprops={'color': '#F44336', 'ls': '-', 'lw': 2})\n",
    "\n",
    "plt.xlabel('')\n",
    "plt.ylabel(\"relative abundance after starvation (%)\")\n",
    "plt.xticks(rotation=90)\n",
    "plt.ylim(0, 101)\n",
    "sns.despine()\n",
    "plt.savefig(f\"{output_dir}nares_post_above_50_rel_abun.svg\", bbox_inches='tight')"
   ]
  },
  {
   "cell_type": "code",
   "execution_count": null,
   "metadata": {},
   "outputs": [],
   "source": [
    "#above 5% post starve abundance species delta\n",
    "sns.set(rc={'figure.figsize':(4,1.5)})\n",
    "\n",
    "#open circle markers\n",
    "pnts = np.linspace(0, np.pi * 2, 24)\n",
    "circ = np.c_[np.sin(pnts) / 2, -np.cos(pnts) / 2]\n",
    "vert = np.r_[circ, circ[::-1] * .7]\n",
    "open_circle = mpl.path.Path(vert)\n",
    "\n",
    "sns.set_style(\"ticks\")\n",
    "sns.despine()\n",
    "\n",
    "ax = sns.stripplot(data=species_nares_raw_post_abun_delta_df_filtered, y=\"delta\",marker=open_circle, x=\"species\", color='black', zorder=3)\n",
    "\n",
    "ax = sns.boxplot(data= species_nares_raw_post_abun_delta_df_filtered, y=\"delta\", x=\"species\",\n",
    "    whiskerprops={'visible': False}, \n",
    "    showfliers=False, \n",
    "    showbox=False,\n",
    "    showcaps=False, \n",
    "    linewidth=0.8,\n",
    "    zorder=2,\n",
    "    medianprops={'color': '#F44336', 'ls': '-', 'lw': 2})\n",
    "\n",
    "#vertical line\n",
    "ax.axhline(0, ls='--', color=\"#B0BEC5\", zorder=1)\n",
    "\n",
    "\n",
    "plt.xlabel('')\n",
    "plt.ylabel(\"change in relative abundance after starvation (%)\")\n",
    "plt.xticks(rotation=90)\n",
    "plt.ylim(-max(abs(species_nares_raw_post_abun_delta_df_filtered[\"post_starve_abundance\"]))-2, max(abs(species_nares_raw_post_abun_delta_df_filtered[\"post_starve_abundance\"]))+2)\n",
    "sns.despine()\n",
    "plt.savefig(f\"{output_dir}nares_post_above_50_delta.svg\", bbox_inches='tight')"
   ]
  },
  {
   "attachments": {},
   "cell_type": "markdown",
   "metadata": {},
   "source": [
    "Saliva"
   ]
  },
  {
   "cell_type": "code",
   "execution_count": null,
   "metadata": {},
   "outputs": [],
   "source": [
    "#saliva raw vs saliva post\n",
    "species_level_abund_df_saliva_raw_post = species_level_abund_df[species_level_abund_df.Saliva_nares == \"Saliva\"][species_level_abund_df.condition.isin([\"Raw_sample\", \"shi_media_Post_starvation\"])]"
   ]
  },
  {
   "cell_type": "code",
   "execution_count": null,
   "metadata": {},
   "outputs": [],
   "source": [
    "species_saliva_raw_post_abun_delta_df = make_species_raw_post_df(species_level_abund_df_saliva_raw_post)"
   ]
  },
  {
   "cell_type": "code",
   "execution_count": null,
   "metadata": {},
   "outputs": [],
   "source": [
    "#species_abundance across the samples, raw\n",
    "\n",
    "sns.set(rc={'figure.figsize':(8,2)})\n",
    "\n",
    "#open circle markers\n",
    "pnts = np.linspace(0, np.pi * 2, 24)\n",
    "circ = np.c_[np.sin(pnts) / 2, -np.cos(pnts) / 2]\n",
    "vert = np.r_[circ, circ[::-1] * .7]\n",
    "open_circle = mpl.path.Path(vert)\n",
    "\n",
    "sns.set_style(\"ticks\")\n",
    "sns.despine()\n",
    "\n",
    "ax = sns.stripplot(data=species_saliva_raw_post_abun_delta_df, y=\"raw_abundance\",marker=open_circle, x=\"sample_num\", color='black', jitter =0, zorder=3)\n",
    "\n",
    "#highlight samples with 50% abun of one species\n",
    "for sample_number in set(species_saliva_raw_post_abun_delta_df[species_saliva_raw_post_abun_delta_df.raw_abundance >= 50].sample_num):\n",
    "    plt.axvspan(int(sample_number)-1.5, int(sample_number)-0.5, color='#EF9A9A', alpha=0.3, lw=0)\n",
    "\n",
    "#plt.axvspan(-0.5, 0.5, color='#EF9A9A', alpha=0.5)\n",
    "\n",
    "\n",
    "plt.xlabel('')\n",
    "plt.ylabel(\"relative abundance after starvation (%)\")\n",
    "plt.xticks(rotation=90)\n",
    "plt.ylim(0, 104)\n",
    "plt.xlim(-0.5, 30)\n",
    "\n",
    "sns.despine()\n",
    "plt.savefig(f\"{output_dir}saliva_raw_sample_num_rel_abun.svg\", bbox_inches='tight')"
   ]
  },
  {
   "cell_type": "code",
   "execution_count": null,
   "metadata": {},
   "outputs": [],
   "source": [
    "#species_abundance across the samples, post starve\n",
    "sns.set(rc={'figure.figsize':(8,2)})\n",
    "\n",
    "#open circle markers\n",
    "pnts = np.linspace(0, np.pi * 2, 24)\n",
    "circ = np.c_[np.sin(pnts) / 2, -np.cos(pnts) / 2]\n",
    "vert = np.r_[circ, circ[::-1] * .7]\n",
    "open_circle = mpl.path.Path(vert)\n",
    "\n",
    "sns.set_style(\"ticks\")\n",
    "sns.despine()\n",
    "\n",
    "ax = sns.stripplot(data=species_saliva_raw_post_abun_delta_df, y=\"post_starve_abundance\",marker=open_circle, x=\"sample_num\", color='black', jitter =0, zorder=3)\n",
    "\n",
    "#highlight samples with 50% abun of one species\n",
    "for sample_number in set(species_saliva_raw_post_abun_delta_df[species_saliva_raw_post_abun_delta_df.post_starve_abundance >= 50].sample_num):\n",
    "    plt.axvspan(int(sample_number)-1.5, int(sample_number)-0.5, color='#EF9A9A', alpha=0.3, lw=0)\n",
    "\n",
    "plt.xlabel('')\n",
    "plt.ylabel(\"relative abundance after starvation (%)\")\n",
    "plt.xticks(rotation=90)\n",
    "plt.ylim(0, 104)\n",
    "plt.xlim(-0.5, 30)\n",
    "\n",
    "sns.despine()\n",
    "plt.savefig(f\"{output_dir}saliva_post_sample_num_rel_abun.svg\", bbox_inches='tight')"
   ]
  },
  {
   "cell_type": "code",
   "execution_count": null,
   "metadata": {},
   "outputs": [],
   "source": [
    "saliva_species_to_keep = []\n",
    "#grab species with post_starve_abundance > 50\n",
    "for species in species_saliva_raw_post_abun_delta_df[species_saliva_raw_post_abun_delta_df.post_starve_abundance >= 50].sort_values(by=\"median_abun_post_starve\", ascending=False).species.unique():\n",
    "    saliva_species_to_keep.append(species)\n",
    "\n",
    "print(len(saliva_species_to_keep))\n",
    "\n",
    "print(saliva_species_to_keep)\n",
    "\n",
    "#filter the df\n",
    "species_saliva_raw_post_abun_delta_df_filtered = species_saliva_raw_post_abun_delta_df[species_saliva_raw_post_abun_delta_df.species.isin(saliva_species_to_keep)]\n",
    "\n",
    "#sort\n",
    "species_saliva_raw_post_abun_delta_df_filtered.species=pd.Categorical(species_saliva_raw_post_abun_delta_df_filtered.species,categories=saliva_species_to_keep)\n",
    "species_saliva_raw_post_abun_delta_df_filtered=species_saliva_raw_post_abun_delta_df_filtered.sort_values('species')\n"
   ]
  },
  {
   "cell_type": "code",
   "execution_count": null,
   "metadata": {},
   "outputs": [],
   "source": [
    "#plot abun above 50\n",
    "sns.set(rc={'figure.figsize':(0.5,1.5)})\n",
    "\n",
    "#open circle markers\n",
    "pnts = np.linspace(0, np.pi * 2, 24)\n",
    "circ = np.c_[np.sin(pnts) / 2, -np.cos(pnts) / 2]\n",
    "vert = np.r_[circ, circ[::-1] * .7]\n",
    "open_circle = mpl.path.Path(vert)\n",
    "\n",
    "sns.set_style(\"ticks\")\n",
    "sns.despine()\n",
    "\n",
    "ax = sns.stripplot(data=species_saliva_raw_post_abun_delta_df_filtered, y=\"post_starve_abundance\",marker=open_circle, x=\"species\", color='black', zorder=3)\n",
    "\n",
    "ax = sns.boxplot(data= species_saliva_raw_post_abun_delta_df_filtered, y=\"post_starve_abundance\", x=\"species\",\n",
    "    whiskerprops={'visible': False}, \n",
    "    showfliers=False, \n",
    "    showbox=False,\n",
    "    showcaps=False, \n",
    "    linewidth=0.8,\n",
    "    zorder=2,\n",
    "    medianprops={'color': '#F44336', 'ls': '-', 'lw': 2})\n",
    "\n",
    "plt.xlabel('')\n",
    "plt.ylabel(\"relative abundance after starvation (%)\")\n",
    "plt.xticks(rotation=90)\n",
    "plt.ylim(0, max(abs(species_saliva_raw_post_abun_delta_df_filtered[\"post_starve_abundance\"]))+2)\n",
    "sns.despine()\n",
    "plt.savefig(f\"{output_dir}saliva_post_above_50_rel_abun.svg\", bbox_inches='tight')"
   ]
  },
  {
   "cell_type": "code",
   "execution_count": null,
   "metadata": {},
   "outputs": [],
   "source": [
    "#plot delta abund over 50\n",
    "sns.set(rc={'figure.figsize':(0.5,1.5)})\n",
    "\n",
    "#open circle markers\n",
    "pnts = np.linspace(0, np.pi * 2, 24)\n",
    "circ = np.c_[np.sin(pnts) / 2, -np.cos(pnts) / 2]\n",
    "vert = np.r_[circ, circ[::-1] * .7]\n",
    "open_circle = mpl.path.Path(vert)\n",
    "\n",
    "sns.set_style(\"ticks\")\n",
    "sns.despine()\n",
    "\n",
    "ax = sns.stripplot(data=species_saliva_raw_post_abun_delta_df_filtered, y=\"delta\",marker=open_circle, x=\"species\", color='black', zorder=3)\n",
    "\n",
    "ax = sns.boxplot(data= species_saliva_raw_post_abun_delta_df_filtered, y=\"delta\", x=\"species\",\n",
    "    whiskerprops={'visible': False}, \n",
    "    showfliers=False, \n",
    "    showbox=False,\n",
    "    showcaps=False, \n",
    "    linewidth=0.8,\n",
    "    zorder=2,\n",
    "    medianprops={'color': '#F44336', 'ls': '-', 'lw': 2})\n",
    "\n",
    "#vertical line\n",
    "ax.axhline(0, ls='--', color=\"#B0BEC5\", zorder=1)\n",
    "\n",
    "\n",
    "plt.xlabel('')\n",
    "plt.ylabel(\"change in relative abundance after starvation (%)\")\n",
    "plt.xticks(rotation=90)\n",
    "plt.ylim(-max(abs(species_saliva_raw_post_abun_delta_df_filtered[\"delta\"]))-4, max(abs(species_saliva_raw_post_abun_delta_df_filtered[\"delta\"]))+4)\n",
    "sns.despine()\n",
    "plt.savefig(f\"{output_dir}saliva_post_above_50_delta.svg\", bbox_inches='tight')"
   ]
  },
  {
   "attachments": {},
   "cell_type": "markdown",
   "metadata": {},
   "source": [
    "## Genome size to CDS jackpot species"
   ]
  },
  {
   "cell_type": "code",
   "execution_count": null,
   "metadata": {},
   "outputs": [],
   "source": [
    "\n",
    "nares_Post_enriched_species_hmts = [int(species.rsplit(\"_\",1)[1]) for species in nares_species_to_keep]\n",
    "saliva_Post_enriched_species_hmts = [int(species.rsplit(\"_\",1)[1]) for species in saliva_species_to_keep]"
   ]
  },
  {
   "cell_type": "code",
   "execution_count": null,
   "metadata": {},
   "outputs": [],
   "source": [
    "#species that went from above 1% abun in raw to less than 0.1 abun in post\n",
    "nares_raw_species = list(species_nares_raw_post_abun_delta_df[species_nares_raw_post_abun_delta_df.mean_abun_raw >= 1][species_nares_raw_post_abun_delta_df.mean_abun_post_starve <= 0.1].species.apply(lambda x: int(x.rsplit(\"_\",1)[1])).unique())\n",
    "\n",
    "saliva_raw_species = list(species_saliva_raw_post_abun_delta_df[species_saliva_raw_post_abun_delta_df.mean_abun_raw >= 1][species_saliva_raw_post_abun_delta_df.mean_abun_post_starve <= 0.1].species.apply(lambda x: int(x.rsplit(\"_\",1)[1])).unique())\n"
   ]
  },
  {
   "cell_type": "code",
   "execution_count": null,
   "metadata": {},
   "outputs": [],
   "source": [
    "#map to seq info df\n",
    "def map_raw_post_enriched(seqinfo_df, post_hmt_list, raw_hmt_list):\n",
    "    seqinfo_df_copy = seqinfo_df.copy()\n",
    "    seqinfo_df_copy[\"HMT_num\"] = seqinfo_df_copy[\"HMT_ID\"].apply(lambda x: int(x.rsplit(\"-\",1)[1]))\n",
    "\n",
    "    hmt2enrichment = {}\n",
    "    for hmt_num in seqinfo_df_copy[\"HMT_num\"].unique():\n",
    "        if hmt_num in post_hmt_list:\n",
    "            hmt2enrichment[hmt_num] = \"post\"\n",
    "        elif hmt_num in raw_hmt_list:\n",
    "            hmt2enrichment[hmt_num] = \"raw\"\n",
    "        else:\n",
    "            hmt2enrichment[hmt_num] = \"neither\"\n",
    "\n",
    "    seqinfo_df_copy[\"raw_post\"] = seqinfo_df_copy.HMT_num.map(hmt2enrichment)\n",
    "    return(seqinfo_df_copy)"
   ]
  },
  {
   "cell_type": "code",
   "execution_count": null,
   "metadata": {},
   "outputs": [],
   "source": [
    "SEQID_info_df_nares = map_raw_post_enriched(SEQID_info_df, nares_Post_enriched_species_hmts, nares_raw_species)\n",
    "SEQID_info_df_saliva = map_raw_post_enriched(SEQID_info_df, saliva_Post_enriched_species_hmts, saliva_raw_species)"
   ]
  },
  {
   "attachments": {},
   "cell_type": "markdown",
   "metadata": {},
   "source": [
    "plot"
   ]
  },
  {
   "cell_type": "code",
   "execution_count": null,
   "metadata": {},
   "outputs": [],
   "source": [
    "color_dict = {\"raw\":\"#1565C0\", \"neither\":\"#CCD1D1\", \"post\":\"#FF5722\"}"
   ]
  },
  {
   "cell_type": "code",
   "execution_count": null,
   "metadata": {},
   "outputs": [],
   "source": [
    "#nares\n",
    "sns.set(rc={'figure.figsize':(6,4)})\n",
    "sns.set_style(\"ticks\")\n",
    "\n",
    "sns.scatterplot(data=SEQID_info_df_nares[SEQID_info_df_nares.raw_post == \"neither\"], x=\"Combined_Size\", y=\"num_cds\", hue=\"raw_post\", palette=color_dict, alpha=0.8)\n",
    "sns.scatterplot(data=SEQID_info_df_nares[SEQID_info_df_nares.raw_post == \"raw\"], x=\"Combined_Size\", y=\"num_cds\", hue=\"raw_post\", palette=color_dict, alpha=0.8)\n",
    "sns.scatterplot(data=SEQID_info_df_nares[SEQID_info_df_nares.raw_post == \"post\"], x=\"Combined_Size\", y=\"num_cds\", hue=\"raw_post\", palette=color_dict, alpha=0.8)\n",
    "\n",
    "plt.xlabel(\"Genome Size\")\n",
    "plt.ylabel(\"Number of CDS\")\n",
    "\n",
    "\n",
    "sns.despine()\n",
    "plt.savefig(f\"/{output_dir}nares_raw_post_genome_size_to_enrichment.svg\", bbox_inches=\"tight\")\n"
   ]
  },
  {
   "cell_type": "code",
   "execution_count": null,
   "metadata": {},
   "outputs": [],
   "source": [
    "sns.set(rc={'figure.figsize':(4,4)})\n",
    "sns.set_style(\"ticks\")\n",
    "\n",
    "sns.scatterplot(data=SEQID_info_df_saliva[SEQID_info_df_saliva.raw_post == \"neither\"], x=\"Combined_Size\", y=\"num_cds\", hue=\"raw_post\", palette=color_dict, alpha=0.8)\n",
    "sns.scatterplot(data=SEQID_info_df_saliva[SEQID_info_df_saliva.raw_post != \"neither\"], x=\"Combined_Size\", y=\"num_cds\", hue=\"raw_post\", palette=color_dict, alpha=0.8)\n",
    "\n",
    "plt.xlabel(\"Genome Size\")\n",
    "plt.ylabel(\"Number of CDS\")\n",
    "\n",
    "sns.despine()\n",
    "plt.savefig(f\"{output_dir}saliva_raw_post_genome_size_to_enrichment.svg\", bbox_inches=\"tight\")\n"
   ]
  },
  {
   "cell_type": "markdown",
   "metadata": {},
   "source": [
    "## anvio functional enrichment of these genomes"
   ]
  },
  {
   "cell_type": "code",
   "execution_count": null,
   "metadata": {},
   "outputs": [],
   "source": [
    "#make directory to download genomes\n",
    "os.makedirs(f\"{working_dir}ehomd_genomes\", exist_ok=True)"
   ]
  },
  {
   "cell_type": "code",
   "execution_count": null,
   "metadata": {},
   "outputs": [],
   "source": [
    "#download genomes\n",
    "for key, row in SEQID_info_df_saliva[SEQID_info_df_saliva.raw_post != \"neither\"].iterrows():\n",
    "    urllib.request.urlretrieve(\"https://www.homd.org/ftp/genomes/NCBI/V10.1/fna/{0}.fna\".format(row[\"SEQ_ID\"]), \"{0}{1}.fna\".format(working_dir+\"ehomd_gneomes\"),row[\"HMT_ID\"].replace(\"-\", \"_\")))\n",
    "\n",
    "for key, row in SEQID_info_df_nares[SEQID_info_df_nares.raw_post != \"neither\"].iterrows():\n",
    "    urllib.request.urlretrieve(\"https://www.homd.org/ftp/genomes/NCBI/V10.1/fna/{0}.fna\".format(row[\"SEQ_ID\"]), \"{0}{1}.fna\".format(working_dir + \"ehomd_genomes\",row[\"HMT_ID\"].replace(\"-\", \"_\")))"
   ]
  },
  {
   "cell_type": "code",
   "execution_count": null,
   "metadata": {},
   "outputs": [],
   "source": [
    "#create table for anvio (nares samples)\n",
    "\n",
    "ex_gen_df_nares = SEQID_info_df_nares[SEQID_info_df_nares.raw_post != \"neither\"][[\"HMT_ID\", \"raw_post\"]].rename(columns={\"HMT_ID\": \"name\"})\n",
    "ex_gen_df_nares[\"raw_post\"] = \"nares_\" + ex_gen_df_nares[\"raw_post\"]\n",
    "\n",
    "ex_gen_df = ex_gen_df_nares\n",
    "\n",
    "ex_gen_df[\"name\"] = ex_gen_df[\"name\"].str.replace(\"-\", \"_\") + \"_renamed\"\n",
    "\n",
    "ex_gen_df = ex_gen_df.drop_duplicates(subset=\"name\")\n",
    "\n",
    "ex_gen_df.to_csv(f\"{working_dir}raw_post_df.tsv\", sep=\"\\t\", index = False)"
   ]
  },
  {
   "attachments": {},
   "cell_type": "markdown",
   "metadata": {},
   "source": [
    "## functional enrichment (not pangenome functional enrichment)"
   ]
  },
  {
   "cell_type": "raw",
   "metadata": {},
   "source": [
    "anvi-estimate-metabolism -e working_dir/ex_gen_df.tsv -O output_dir/estimate_metabolism_completeness\n"
   ]
  },
  {
   "cell_type": "code",
   "execution_count": null,
   "metadata": {},
   "outputs": [],
   "source": [
    "#create groups file\n",
    "groups_df = pd.read_csv(f\"{working_dir}raw_post_df.tsv\", sep=\"\\t\")\n",
    "groups_df = groups_df.rename(columns={\"raw_post\":\"group\"})\n",
    "groups_df.to_csv(f\"{working_dir}functional_enrichment_groups.txt\", sep=\"\\t\", index=False)"
   ]
  },
  {
   "cell_type": "raw",
   "metadata": {},
   "source": [
    "anvi-compute-metabolic-enrichment -M output_dir/estimate_metabolism_completeness_modules.txt \\\n",
    "                               -G working_dir/functional_enrichment_groups.txt \\\n",
    "                               -o output_dir/functional_enrichment.txt"
   ]
  },
  {
   "attachments": {},
   "cell_type": "markdown",
   "metadata": {},
   "source": [
    "## create enriched kegg module completeness heatmap"
   ]
  },
  {
   "cell_type": "code",
   "execution_count": null,
   "metadata": {},
   "outputs": [],
   "source": [
    "kegg_functional_enrichment_module_df = pd.read_csv(f'{output_dir}functional_enrichment.txt', sep=\"\\t\")\n",
    "\n",
    "#sort to p value less than 0.05 or equal\n",
    "kegg_functional_enrichment_module_df = kegg_functional_enrichment_module_df[kegg_functional_enrichment_module_df.unadjusted_p_value <= 0.05].sort_values(by=[\"associated_groups\", \"adjusted_q_value\"], ascending=[True, False]).reset_index(drop=True)\n",
    "\n",
    "kegg_functional_enrichment_module_df[\"kegg_description_accession\"] = kegg_functional_enrichment_module_df[\"KEGG_MODULE\"] + \"::\" + kegg_functional_enrichment_module_df[\"accession\"]"
   ]
  },
  {
   "cell_type": "code",
   "execution_count": null,
   "metadata": {},
   "outputs": [],
   "source": [
    "hmtid2bacterianame = {}\n",
    "for key, row in SEQID_info_df_nares.iterrows():\n",
    "    hmtid2bacterianame[row[\"HMT_ID\"]] = row[\"Genus\"] + \" \" + row[\"Species\"]"
   ]
  },
  {
   "cell_type": "code",
   "execution_count": null,
   "metadata": {},
   "outputs": [],
   "source": [
    "#read through the estimate metabolism outputs\n",
    "\n",
    "module_heatmap_dict = defaultdict(list)\n",
    "\n",
    "for module_accession in kegg_functional_enrichment_module_df.kegg_description_accession:\n",
    "    module_accession = module_accession.split(\",\",1)[0].split(\"::\")[0] + \"::\" + module_accession.split(\"::\",1)[1]\n",
    "    module_heatmap_dict[\"kegg_description_accession\"].append(module_accession)\n",
    "\n",
    "for HMT_ID in SEQID_info_df_nares[SEQID_info_df_nares.raw_post !=\"neither\"].sort_values(by=[\"raw_post\", \"Combined_Size\"], ascending=[True,False])[\"HMT_ID\"]:\n",
    "    HMT_num = HMT_ID.rsplit(\"-\", 1)[1]\n",
    "    bacteria_name = hmtid2bacterianame[HMT_ID]\n",
    "    estimated_metabolism_df = pd.read_table(f\"output_dir/HMT_{0}_modules.txt\".format(HMT_num), sep=\"\\t\").set_index(\"kegg_module\", drop=True)\n",
    "\n",
    "    for module_accession in kegg_functional_enrichment_module_df.accession:\n",
    "        if module_accession in estimated_metabolism_df.index.values:\n",
    "            completeness = estimated_metabolism_df.loc[module_accession][\"module_completeness\"] * 100\n",
    "            module_heatmap_dict[bacteria_name].append(completeness)\n",
    "\n",
    "        else:\n",
    "            completeness = 0\n",
    "            module_heatmap_dict[bacteria_name].append(completeness)\n",
    "\n",
    "module_heatmap_df = pd.DataFrame(module_heatmap_dict)        \n",
    "module_heatmap_df = module_heatmap_df.set_index(\"kegg_description_accession\", drop=True)\n",
    "module_heatmap_df = module_heatmap_df.replace(0, np.NaN)\n"
   ]
  },
  {
   "cell_type": "code",
   "execution_count": null,
   "metadata": {},
   "outputs": [],
   "source": [
    "post_hmts = []\n",
    "for HMT_ID in SEQID_info_df_nares[SEQID_info_df_nares.raw_post == \"post\"].sort_values(by=[\"Combined_Size\"], ascending=[False])[\"HMT_ID\"]:\n",
    "    HMT_num = HMT_ID.rsplit(\"-\", 1)[1]\n",
    "    post_hmts.append(hmtid2bacterianame[HMT_ID])\n",
    "\n",
    "raw_hmts = []\n",
    "for HMT_ID in SEQID_info_df_nares[SEQID_info_df_nares.raw_post ==\"raw\"].sort_values(by=[\"Combined_Size\"], ascending=[False])[\"HMT_ID\"]:\n",
    "    HMT_num = HMT_ID.rsplit(\"-\", 1)[1]\n",
    "    raw_hmts.append(hmtid2bacterianame[HMT_ID])\n",
    "\n",
    "module_heatmap_df_post = module_heatmap_df[post_hmts]\n",
    "module_heatmap_df_raw = module_heatmap_df[raw_hmts]"
   ]
  },
  {
   "cell_type": "code",
   "execution_count": null,
   "metadata": {},
   "outputs": [],
   "source": [
    "plt.figure(figsize=(5,12))\n",
    "sns.heatmap(module_heatmap_df_post, xticklabels=1, yticklabels=1, linewidth=0.5, cmap=sns.color_palette(\"Blues\", as_cmap=True), square=True)\n",
    "plt.savefig(\"{output_dir}post_heatmap_blue.svg\")\n",
    "plt.show()\n",
    "plt.close()"
   ]
  },
  {
   "cell_type": "code",
   "execution_count": null,
   "metadata": {},
   "outputs": [],
   "source": [
    "plt.figure(figsize=(5,12))\n",
    "sns.heatmap(module_heatmap_df_raw, xticklabels=1, yticklabels=1, linewidth=0.5, cmap=sns.color_palette(\"Blues\", as_cmap=True), square=True)\n",
    "plt.savefig(f\"{output_dir}raw_heatmap.svg\")\n",
    "plt.show()\n",
    "plt.close()"
   ]
  }
 ],
 "metadata": {
  "kernelspec": {
   "display_name": "Python_env",
   "language": "python",
   "name": "python3"
  },
  "language_info": {
   "codemirror_mode": {
    "name": "ipython",
    "version": 3
   },
   "file_extension": ".py",
   "mimetype": "text/x-python",
   "name": "python",
   "nbconvert_exporter": "python",
   "pygments_lexer": "ipython3",
   "version": "3.9.7"
  },
  "orig_nbformat": 4
 },
 "nbformat": 4,
 "nbformat_minor": 2
}
